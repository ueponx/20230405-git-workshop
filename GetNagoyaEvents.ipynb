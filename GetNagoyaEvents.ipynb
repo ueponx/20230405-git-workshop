{
  "nbformat": 4,
  "nbformat_minor": 0,
  "metadata": {
    "colab": {
      "provenance": [],
      "authorship_tag": "ABX9TyP4Z9B9MKRQgAHuJHcWAg9M",
      "include_colab_link": true
    },
    "kernelspec": {
      "name": "python3",
      "display_name": "Python 3"
    },
    "language_info": {
      "name": "python"
    }
  },
  "cells": [
    {
      "cell_type": "markdown",
      "metadata": {
        "id": "view-in-github",
        "colab_type": "text"
      },
      "source": [
        "<a href=\"https://colab.research.google.com/github/ueponx/20230405-git-workshop/blob/main/GetNagoyaEvents.ipynb\" target=\"_parent\"><img src=\"https://colab.research.google.com/assets/colab-badge.svg\" alt=\"Open In Colab\"/></a>"
      ]
    },
    {
      "cell_type": "markdown",
      "source": [
        "**必要なライブラリをインストール**"
      ],
      "metadata": {
        "id": "3VBiGM6gHUAU"
      }
    },
    {
      "cell_type": "code",
      "execution_count": 1,
      "metadata": {
        "colab": {
          "base_uri": "https://localhost:8080/"
        },
        "id": "2i0af8Ib0pvR",
        "outputId": "3aa5091d-1cba-4e88-da48-d727b93cc4f6"
      },
      "outputs": [
        {
          "output_type": "stream",
          "name": "stdout",
          "text": [
            "Requirement already satisfied: requests in /usr/local/lib/python3.10/dist-packages (2.31.0)\n",
            "Requirement already satisfied: charset-normalizer<4,>=2 in /usr/local/lib/python3.10/dist-packages (from requests) (3.3.0)\n",
            "Requirement already satisfied: idna<4,>=2.5 in /usr/local/lib/python3.10/dist-packages (from requests) (3.4)\n",
            "Requirement already satisfied: urllib3<3,>=1.21.1 in /usr/local/lib/python3.10/dist-packages (from requests) (2.0.7)\n",
            "Requirement already satisfied: certifi>=2017.4.17 in /usr/local/lib/python3.10/dist-packages (from requests) (2023.7.22)\n",
            "Requirement already satisfied: beautifulsoup4 in /usr/local/lib/python3.10/dist-packages (4.11.2)\n",
            "Requirement already satisfied: soupsieve>1.2 in /usr/local/lib/python3.10/dist-packages (from beautifulsoup4) (2.5)\n",
            "Requirement already satisfied: pandas in /usr/local/lib/python3.10/dist-packages (1.5.3)\n",
            "Requirement already satisfied: python-dateutil>=2.8.1 in /usr/local/lib/python3.10/dist-packages (from pandas) (2.8.2)\n",
            "Requirement already satisfied: pytz>=2020.1 in /usr/local/lib/python3.10/dist-packages (from pandas) (2023.3.post1)\n",
            "Requirement already satisfied: numpy>=1.21.0 in /usr/local/lib/python3.10/dist-packages (from pandas) (1.23.5)\n",
            "Requirement already satisfied: six>=1.5 in /usr/local/lib/python3.10/dist-packages (from python-dateutil>=2.8.1->pandas) (1.16.0)\n"
          ]
        }
      ],
      "source": [
        "!pip install requests\n",
        "!pip install beautifulsoup4\n",
        "!pip install pandas"
      ]
    },
    {
      "cell_type": "markdown",
      "source": [
        "**HTMLを解析して、CSV化する**\n",
        "\n",
        "1.   実行時にはURLを入力するインプットボックスが表示\n",
        "2.   実行後にevent.csvがダウンロード可能になる\n",
        "\n",
        "\n"
      ],
      "metadata": {
        "id": "hWUHua69HfFv"
      }
    },
    {
      "cell_type": "code",
      "source": [
        "import requests\n",
        "from bs4 import BeautifulSoup\n",
        "import pandas as pd\n",
        "from google.colab import files\n",
        "import io\n",
        "import re\n",
        "\n",
        "def extract_event_info(date_tag):\n",
        "    \"\"\"\n",
        "    HTMLの日付タグからイベント情報を抽出する関数。\n",
        "\n",
        "    :param date_tag: BeautifulSoupオブジェクトの日付タグ\n",
        "    :return: イベント情報のリスト（辞書形式）\n",
        "    \"\"\"\n",
        "    date_text = date_tag.get_text(strip=True)\n",
        "    day, weekday = date_text[:-3], date_text[-3:]\n",
        "    weekday_dict = {'月曜日': '月', '火曜日': '火', '水曜日': '水', '木曜日': '木', '金曜日': '金', '土曜日': '土', '日曜日': '日'}\n",
        "    date = f\"{day}({weekday_dict.get(weekday, '?')})\"\n",
        "    events = []\n",
        "    events_td = date_tag.find_next_sibling('td')\n",
        "    if events_td:\n",
        "        for li in events_td.find_all('li'):\n",
        "            event_title_tag = li.find('a')\n",
        "            event_title = event_title_tag.get_text(strip=True) if event_title_tag else \"タイトル不明\"\n",
        "            event_url = event_title_tag['href'] if event_title_tag and event_title_tag.has_attr('href') else \"URL不明\"\n",
        "            event_categories = [span.text for span in li.find_all('span', class_=re.compile('eve_cate'))]\n",
        "            events.append({\n",
        "                '日付': date,\n",
        "                'イベントタイトル': event_title,\n",
        "                'イベントURL': event_url,\n",
        "                'カテゴリ': ','.join(event_categories)\n",
        "            })\n",
        "    return events\n",
        "\n",
        "def parse_html_from_url(url):\n",
        "    \"\"\"\n",
        "    URLからHTMLを取得し、イベント情報を抽出する関数。\n",
        "\n",
        "    :param url: イベント情報が含まれるウェブページのURL\n",
        "    :return: イベント情報のリスト（辞書形式）\n",
        "    \"\"\"\n",
        "    response = requests.get(url)\n",
        "    response.raise_for_status()\n",
        "    response.encoding = 'utf-8'  # エンコーディングをUTF-8に設定\n",
        "    html_content = response.text\n",
        "    soup = BeautifulSoup(html_content, 'html.parser')\n",
        "    date_tags = soup.find_all('th', {'scope': 'row', 'class': 'cal_date'})\n",
        "    all_events = []\n",
        "    for date_tag in date_tags:\n",
        "        all_events.extend(extract_event_info(date_tag))\n",
        "    return all_events\n",
        "\n",
        "def save_to_csv(events):\n",
        "    \"\"\"\n",
        "    イベント情報をCSVファイルに保存してダウンロードする関数。\n",
        "\n",
        "    :param events: イベント情報のリスト（辞書形式）\n",
        "    \"\"\"\n",
        "    df = pd.DataFrame(events)\n",
        "    # CSVデータをUTF-8 BOMエンコーディングで文字列として取得\n",
        "    csv_content = df.to_csv(index=False, quoting=1, encoding='utf-8-sig')\n",
        "    # 文字列をバイト列に変換し、BytesIOオブジェクトに変換\n",
        "    csv_buffer = io.BytesIO(csv_content.encode('utf-8-sig'))\n",
        "    # バッファの内容をファイルに保存\n",
        "    with open('events.csv', 'wb') as f:\n",
        "        f.write(csv_buffer.getvalue())\n",
        "    # ファイルをダウンロード\n",
        "    files.download('events.csv')\n",
        "\n",
        "if __name__ == \"__main__\":\n",
        "    url = input(\"イベント情報が含まれるウェブページのURLを入力してください: \")\n",
        "    events = parse_html_from_url(url)\n",
        "    save_to_csv(events)\n",
        "    print(\"イベント情報をCSVファイルとしてダウンロードしました。\")"
      ],
      "metadata": {
        "colab": {
          "base_uri": "https://localhost:8080/",
          "height": 52
        },
        "id": "HV0c9kIYCmkW",
        "outputId": "2ea3d97a-0d30-4d56-f898-c927eb9fced1"
      },
      "execution_count": 4,
      "outputs": [
        {
          "name": "stdout",
          "output_type": "stream",
          "text": [
            "イベント情報が含まれるウェブページのURLを入力してください: https://www.city.nagoya.jp/main/event2/curr.html\n"
          ]
        },
        {
          "output_type": "display_data",
          "data": {
            "text/plain": [
              "<IPython.core.display.Javascript object>"
            ],
            "application/javascript": [
              "\n",
              "    async function download(id, filename, size) {\n",
              "      if (!google.colab.kernel.accessAllowed) {\n",
              "        return;\n",
              "      }\n",
              "      const div = document.createElement('div');\n",
              "      const label = document.createElement('label');\n",
              "      label.textContent = `Downloading \"${filename}\": `;\n",
              "      div.appendChild(label);\n",
              "      const progress = document.createElement('progress');\n",
              "      progress.max = size;\n",
              "      div.appendChild(progress);\n",
              "      document.body.appendChild(div);\n",
              "\n",
              "      const buffers = [];\n",
              "      let downloaded = 0;\n",
              "\n",
              "      const channel = await google.colab.kernel.comms.open(id);\n",
              "      // Send a message to notify the kernel that we're ready.\n",
              "      channel.send({})\n",
              "\n",
              "      for await (const message of channel.messages) {\n",
              "        // Send a message to notify the kernel that we're ready.\n",
              "        channel.send({})\n",
              "        if (message.buffers) {\n",
              "          for (const buffer of message.buffers) {\n",
              "            buffers.push(buffer);\n",
              "            downloaded += buffer.byteLength;\n",
              "            progress.value = downloaded;\n",
              "          }\n",
              "        }\n",
              "      }\n",
              "      const blob = new Blob(buffers, {type: 'application/binary'});\n",
              "      const a = document.createElement('a');\n",
              "      a.href = window.URL.createObjectURL(blob);\n",
              "      a.download = filename;\n",
              "      div.appendChild(a);\n",
              "      a.click();\n",
              "      div.remove();\n",
              "    }\n",
              "  "
            ]
          },
          "metadata": {}
        },
        {
          "output_type": "display_data",
          "data": {
            "text/plain": [
              "<IPython.core.display.Javascript object>"
            ],
            "application/javascript": [
              "download(\"download_5cc04365-507b-4d91-86a7-9ade1b85adff\", \"events.csv\", 88446)"
            ]
          },
          "metadata": {}
        },
        {
          "output_type": "stream",
          "name": "stdout",
          "text": [
            "イベント情報をCSVファイルとしてダウンロードしました。\n"
          ]
        }
      ]
    }
  ]
}